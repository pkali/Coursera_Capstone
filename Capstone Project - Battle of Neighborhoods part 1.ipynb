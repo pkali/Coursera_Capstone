{
 "cells": [
  {
   "cell_type": "markdown",
   "metadata": {},
   "source": [
    "# Battle of Neighborhoods\n",
    "## 1. Introduction / Business problem "
   ]
  },
  {
   "cell_type": "markdown",
   "metadata": {},
   "source": [
    "Each year number of practicing dentists in Florida grows by average by 170 [(source)](https://www.ada.org/en/science-research/health-policy-institute/data-center/supply-and-profile-of-dentists).\n",
    "![](fl_dentists_chart.png)\n",
    "\n",
    "Most of new dentists start as Associates in the established practices, but finally they want to open their own offices. \n",
    "\n",
    "Here comes the problem - what is the best place to open the new dental practice?\n",
    "\n",
    "We will examine in this exercise a naïve approach of comparing population numbers in a given neighborhood to density and quality of existing dental practices. Places with least dental practice density per population will be considered as candidate spots.\n",
    "\n",
    "This approach might be further expanded by comparing additional data as wealth (e.g. median household income) and commercial rent rates.\n",
    "\n",
    "I am narrowing the scope of the exercise to Miami metropolitan area, with focus on Miami-Dade county."
   ]
  },
  {
   "cell_type": "markdown",
   "metadata": {},
   "source": [
    "## 2. Data"
   ]
  },
  {
   "attachments": {},
   "cell_type": "markdown",
   "metadata": {},
   "source": [
    "The exercise will base on the following data sets:\n",
    "\n",
    "1. Foursquare (the business type `Dentist's Office`) - location and popularity\n",
    "2. Geographical / geocoding data [zip code boundaries](https://gis-mdc.opendata.arcgis.com/datasets/zip-code), [KML file with boundaries](https://opendata.arcgis.com/datasets/fee863cb3da0417fa8b5aaf6b671f8a7_0.kml?outSR=%7B%22latestWkid%22%3A3857%2C%22wkid%22%3A102100%7D)\n",
    "\n",
    "3. Demographics [by zip code](https://worldpopulationreview.com/zips/florida/)\n",
    "\n",
    "4. Zip Code Characteristics: Mean and Median Household Income [xlsx](https://www.psc.isr.umich.edu/dis/census/Features/tract2zip/MedianZIP-3.xlsx)\n",
    "\n",
    "\n",
    "Results will name best place(s) to open Dental Office in Miami area. "
   ]
  },
  {
   "cell_type": "markdown",
   "metadata": {},
   "source": [
    "### 2.1. Data wrangling"
   ]
  },
  {
   "cell_type": "markdown",
   "metadata": {},
   "source": [
    "Geographical data in form of `KLM` file was downloaded from `arcgis.com` site. The file was converted to `.topojson` format using [MyGeoData on-line converter](https://mygeodata.cloud/converter/). `Zip_Code.topojson` file is natively recognized by `folium` library to create chloropleth maps.\n",
    "The `KML` file was also converted to `Zip_Code.tsv` using `bash` tools. The file has a following structure:\n",
    "```\n",
    "ZIP_CODE1<tab>point1.1<tab>point1.2<tab>...<tab>point1.N\n",
    "ZIP_CODE2<tab>point2.1<tab>point2.2<tab>...<tab>point2.M\n",
    "...\n",
    "```\n",
    "where `point` is a pair of latitude,longitude coordinates. The snippet below load the `Zip_Code.tsv` file into a dictionary `zip_borders`."
   ]
  },
  {
   "cell_type": "code",
   "execution_count": null,
   "metadata": {},
   "outputs": [],
   "source": [
    "#creates a dict where key is ZIP and value is list of border points \n",
    "#point is a tuple (lat, lng)\n",
    "zip_borders = {}\n",
    "with open('Zip_Code.tsv', 'r') as f:\n",
    "    for line in f:\n",
    "        line = line.strip().split('\\t')\n",
    "        coords = []\n",
    "        for coord in line[1:]:\n",
    "            coords.append(\n",
    "                (float(coord.split(',')[1]), #lat and lng are swapped!!!\n",
    "                 float(coord.split(',')[0]))\n",
    "            )\n",
    "        zip_borders[line[0]] = coords"
   ]
  },
  {
   "cell_type": "markdown",
   "metadata": {},
   "source": [
    "Population by ZIP code was downloaded in `.csv` format from [worldpopulationreview.com](https://worldpopulationreview.com/zips/florida/) as file `population_by_zip.csv`. This data was directly imported into Pandas DataFrame, then converted to integers."
   ]
  },
  {
   "cell_type": "code",
   "execution_count": null,
   "metadata": {},
   "outputs": [],
   "source": [
    "import pandas as pd\n",
    "pop_df = pd.read_csv('population_by_zip.csv')\n",
    "pop_df = pop_df.astype({'zip': 'int32', 'pop': 'int32'})\n",
    "pop_df = pop_df.set_index('zip')"
   ]
  },
  {
   "cell_type": "markdown",
   "metadata": {},
   "source": [
    "Household Median Income was downloaded from [umich.edu](https://www.psc.isr.umich.edu/dis/census/Features/tract2zip/MedianZIP-3.xlsx). The `XLSX` file was manually converted to `MedianZIP-3.csv` and loaded do `zip_income` DataFrame."
   ]
  },
  {
   "cell_type": "code",
   "execution_count": null,
   "metadata": {},
   "outputs": [],
   "source": [
    "zip_income = pd.read_csv('MedianZIP-3.csv').set_index('Zip')"
   ]
  },
  {
   "cell_type": "markdown",
   "metadata": {},
   "source": [
    "### 2.2 Reading venue data from Foursquare"
   ]
  },
  {
   "cell_type": "markdown",
   "metadata": {},
   "source": [
    "The right endpoint and API call for this excercise was [venues/search](https://developer.foursquare.com/docs/api-reference/venues/search/). It requires latitude, longitude and radius for the queried area with additional filtering possible. Here we used [filtering by category](https://developer.foursquare.com/docs/build-with-foursquare/categories/). As we wanted to get a list of all Dental Offices in the Greater Miami area, we might call the API just once with a large enough radius to cover it all. Unfortunately the hard limit for returned results in Foursquare API is 50, so we turned to querying each ZIP code individually.\n",
    "\n",
    "The function `get_dentists(lat, lng, r)` returns DataFrame with all returned offices in a given radius."
   ]
  },
  {
   "cell_type": "code",
   "execution_count": null,
   "metadata": {},
   "outputs": [],
   "source": [
    "def get_dentists(lat, lng, r):\n",
    "    #get Dentist's Offices from foursquare\n",
    "    CLIENT_ID = 'W4Z5L01JHWF0ARMJNDDVE5KOBVNQDVQON1RN15MXW1HOTVYP' # your Foursquare ID\n",
    "    CLIENT_SECRET = 'MKRMHSSBSBESO33A2EJDA0ZORVBGC4AHVYO4IAO1JU0XGVXG' # your Foursquare Secret\n",
    "    VERSION = '20200601' # Foursquare API version\n",
    "    LIMIT = 50 # limit of number of venues returned by Foursquare API\n",
    "    #\"Dentist's Office\" categoryID \n",
    "    #(from https://developer.foursquare.com/docs/build-with-foursquare/categories/)\n",
    "    dentist_cat = '4bf58dd8d48988d178941735'\n",
    "\n",
    "    url = 'https://api.foursquare.com/v2/venues/search?&client_id={}&client_secret={}&v={}&ll={},{}&radius={}&limit={}&categoryId={}'.format(\n",
    "        CLIENT_ID, \n",
    "        CLIENT_SECRET, \n",
    "        VERSION, \n",
    "        lat, \n",
    "        lng, \n",
    "        r, \n",
    "        LIMIT,\n",
    "        dentist_cat\n",
    "        )\n",
    "    results = requests.get(url).json()\n",
    "    \n",
    "    #create dental office array\n",
    "    offices = []\n",
    "    for v in results['response']['venues']:\n",
    "        name = v['name']\n",
    "        lat = v['location']['lat']\n",
    "        lng = v['location']['lng']\n",
    "        try:\n",
    "            ZIP = v['location']['postalCode']\n",
    "        except KeyError:\n",
    "            ZIP = None\n",
    "        try:\n",
    "            address = ', '.join(v['location']['formattedAddress'])\n",
    "        except KeyError:\n",
    "            address = None\n",
    "        offices.append({\n",
    "            'name': name,\n",
    "            'lat': lat,\n",
    "            'lng': lng,\n",
    "            'zip': ZIP,\n",
    "            'address': address\n",
    "        })\n",
    "    return pd.DataFrame(offices)"
   ]
  },
  {
   "cell_type": "markdown",
   "metadata": {},
   "source": [
    "Now we need to run the above function over all ZIP areas.\n",
    "The dictionary `zip_borders` contains coordinates of points making a border of a ZIP area. So, we need to find a smallest enclosing circle for each set of points. \n",
    "\n",
    "The small open source library below fits this purpose. "
   ]
  },
  {
   "cell_type": "code",
   "execution_count": null,
   "metadata": {},
   "outputs": [],
   "source": [
    "# \n",
    "# Smallest enclosing circle - Library (Python)\n",
    "# \n",
    "# Copyright (c) 2020 Project Nayuki\n",
    "# https://www.nayuki.io/page/smallest-enclosing-circle\n",
    "# \n",
    "# This program is free software: you can redistribute it and/or modify\n",
    "# it under the terms of the GNU Lesser General Public License as published by\n",
    "# the Free Software Foundation, either version 3 of the License, or\n",
    "# (at your option) any later version.\n",
    "# \n",
    "# This program is distributed in the hope that it will be useful,\n",
    "# but WITHOUT ANY WARRANTY; without even the implied warranty of\n",
    "# MERCHANTABILITY or FITNESS FOR A PARTICULAR PURPOSE.  See the\n",
    "# GNU Lesser General Public License for more details.\n",
    "# \n",
    "# You should have received a copy of the GNU Lesser General Public License\n",
    "# along with this program (see COPYING.txt and COPYING.LESSER.txt).\n",
    "# If not, see <http://www.gnu.org/licenses/>.\n",
    "# \n",
    "\n",
    "import math, random\n",
    "\n",
    "\n",
    "# Data conventions: A point is a pair of floats (x, y). A circle is a triple of floats (center x, center y, radius).\n",
    "\n",
    "# Returns the smallest circle that encloses all the given points. Runs in expected O(n) time, randomized.\n",
    "# Input: A sequence of pairs of floats or ints, e.g. [(0,5), (3.1,-2.7)].\n",
    "# Output: A triple of floats representing a circle.\n",
    "# Note: If 0 points are given, None is returned. If 1 point is given, a circle of radius 0 is returned.\n",
    "# \n",
    "# Initially: No boundary points known\n",
    "def make_circle(points):\n",
    "\t# Convert to float and randomize order\n",
    "\tshuffled = [(float(x), float(y)) for (x, y) in points]\n",
    "\trandom.shuffle(shuffled)\n",
    "\t\n",
    "\t# Progressively add points to circle or recompute circle\n",
    "\tc = None\n",
    "\tfor (i, p) in enumerate(shuffled):\n",
    "\t\tif c is None or not is_in_circle(c, p):\n",
    "\t\t\tc = _make_circle_one_point(shuffled[ : i + 1], p)\n",
    "\treturn c\n",
    "\n",
    "\n",
    "# One boundary point known\n",
    "def _make_circle_one_point(points, p):\n",
    "\tc = (p[0], p[1], 0.0)\n",
    "\tfor (i, q) in enumerate(points):\n",
    "\t\tif not is_in_circle(c, q):\n",
    "\t\t\tif c[2] == 0.0:\n",
    "\t\t\t\tc = make_diameter(p, q)\n",
    "\t\t\telse:\n",
    "\t\t\t\tc = _make_circle_two_points(points[ : i + 1], p, q)\n",
    "\treturn c\n",
    "\n",
    "\n",
    "# Two boundary points known\n",
    "def _make_circle_two_points(points, p, q):\n",
    "\tcirc = make_diameter(p, q)\n",
    "\tleft  = None\n",
    "\tright = None\n",
    "\tpx, py = p\n",
    "\tqx, qy = q\n",
    "\t\n",
    "\t# For each point not in the two-point circle\n",
    "\tfor r in points:\n",
    "\t\tif is_in_circle(circ, r):\n",
    "\t\t\tcontinue\n",
    "\t\t\n",
    "\t\t# Form a circumcircle and classify it on left or right side\n",
    "\t\tcross = _cross_product(px, py, qx, qy, r[0], r[1])\n",
    "\t\tc = make_circumcircle(p, q, r)\n",
    "\t\tif c is None:\n",
    "\t\t\tcontinue\n",
    "\t\telif cross > 0.0 and (left is None or _cross_product(px, py, qx, qy, c[0], c[1]) > _cross_product(px, py, qx, qy, left[0], left[1])):\n",
    "\t\t\tleft = c\n",
    "\t\telif cross < 0.0 and (right is None or _cross_product(px, py, qx, qy, c[0], c[1]) < _cross_product(px, py, qx, qy, right[0], right[1])):\n",
    "\t\t\tright = c\n",
    "\t\n",
    "\t# Select which circle to return\n",
    "\tif left is None and right is None:\n",
    "\t\treturn circ\n",
    "\telif left is None:\n",
    "\t\treturn right\n",
    "\telif right is None:\n",
    "\t\treturn left\n",
    "\telse:\n",
    "\t\treturn left if (left[2] <= right[2]) else right\n",
    "\n",
    "\n",
    "def make_diameter(a, b):\n",
    "\tcx = (a[0] + b[0]) / 2\n",
    "\tcy = (a[1] + b[1]) / 2\n",
    "\tr0 = math.hypot(cx - a[0], cy - a[1])\n",
    "\tr1 = math.hypot(cx - b[0], cy - b[1])\n",
    "\treturn (cx, cy, max(r0, r1))\n",
    "\n",
    "\n",
    "def make_circumcircle(a, b, c):\n",
    "\t# Mathematical algorithm from Wikipedia: Circumscribed circle\n",
    "\tox = (min(a[0], b[0], c[0]) + max(a[0], b[0], c[0])) / 2\n",
    "\toy = (min(a[1], b[1], c[1]) + max(a[1], b[1], c[1])) / 2\n",
    "\tax = a[0] - ox;  ay = a[1] - oy\n",
    "\tbx = b[0] - ox;  by = b[1] - oy\n",
    "\tcx = c[0] - ox;  cy = c[1] - oy\n",
    "\td = (ax * (by - cy) + bx * (cy - ay) + cx * (ay - by)) * 2.0\n",
    "\tif d == 0.0:\n",
    "\t\treturn None\n",
    "\tx = ox + ((ax*ax + ay*ay) * (by - cy) + (bx*bx + by*by) * (cy - ay) + (cx*cx + cy*cy) * (ay - by)) / d\n",
    "\ty = oy + ((ax*ax + ay*ay) * (cx - bx) + (bx*bx + by*by) * (ax - cx) + (cx*cx + cy*cy) * (bx - ax)) / d\n",
    "\tra = math.hypot(x - a[0], y - a[1])\n",
    "\trb = math.hypot(x - b[0], y - b[1])\n",
    "\trc = math.hypot(x - c[0], y - c[1])\n",
    "\treturn (x, y, max(ra, rb, rc))\n",
    "\n",
    "\n",
    "_MULTIPLICATIVE_EPSILON = 1 + 1e-14\n",
    "\n",
    "def is_in_circle(c, p):\n",
    "\treturn c is not None and math.hypot(p[0] - c[0], p[1] - c[1]) <= c[2] * _MULTIPLICATIVE_EPSILON\n",
    "\n",
    "\n",
    "# Returns twice the signed area of the triangle defined by (x0, y0), (x1, y1), (x2, y2).\n",
    "def _cross_product(x0, y0, x1, y1, x2, y2):\n",
    "\treturn (x1 - x0) * (y2 - y0) - (y1 - y0) * (x2 - x0)\n",
    "\n",
    "# Convert \"(lat,lng)\" radius to meters\n",
    "# Length in meters of 1° of latitude = always 111.32 km\n",
    "# below is by no means an accurate math, but it is good enough\n",
    "# because we are working on a small scale where earth curvature can be ignored\n",
    "def make_circle_metric(points):\n",
    "    c = make_circle(points)\n",
    "    r = c[2] * 111320\n",
    "    return (c[0], c[1], r)"
   ]
  },
  {
   "cell_type": "markdown",
   "metadata": {},
   "source": [
    "The original library was enhanced with `make_circle_metric` function that returns approximate radius in meters, as required by Foursquare API.\n",
    "\n",
    "With the data desctibed above we can now create a map of Greater Miami Area that includes smallest enclosing circles of each ZIP area. \n"
   ]
  },
  {
   "cell_type": "code",
   "execution_count": null,
   "metadata": {},
   "outputs": [],
   "source": [
    "import folium\n",
    "import branca\n",
    "import json\n",
    "\n",
    "zip_map = r'Zip_Code.topojson' # topojson file\n",
    "\n",
    "#yellow --> green color scale from 0 to maximum population\n",
    "colorscale = branca.colormap.linear.YlGn_09.scale(0, pop_df.max()['pop'])\n",
    "with open(zip_map, mode='r') as f:\n",
    "    topo = json.load(f)\n",
    "    \n",
    "#find zip codes present in the topojson file\n",
    "topo_zips = set()\n",
    "for g in topo['objects']['Zip_Code']['geometries']:\n",
    "    topo_zips.add(g['properties']['ZIP'])\n",
    "\n",
    "#zip codes in population file\n",
    "pop_zips=set(pop_df['zip'])\n",
    "\n",
    "#add missing zip codes to population file (with value = 0)\n",
    "#this is necessary for folium to parse all zip areas\n",
    "for z in topo_zips - pop_zips:\n",
    "    pop_df = pop_df.append({'zip':z, 'pop':0}, ignore_index=True)\n",
    "\n",
    "pop_series = pop_df.set_index('zip')['pop']\n",
    "def style_function(feature):\n",
    "    pop = pop_series.get(int(feature['properties']['ZIP']), None)\n",
    "    return {\n",
    "        'fillOpacity': 0.5,\n",
    "        'weight': 0,\n",
    "        'fillColor': '#black' if pop is None else colorscale(pop)\n",
    "    }\n",
    "\n",
    "miami_area = [25.70, -80.208889]\n",
    "m = folium.Map(\n",
    "    location=miami_area,\n",
    "    tiles='cartodbpositron',\n",
    "    zoom_start=9\n",
    ")\n",
    "folium.TopoJson(\n",
    "    topo,\n",
    "    'objects.Zip_Code',\n",
    "    style_function=style_function\n",
    ").add_to(m)"
   ]
  },
  {
   "cell_type": "markdown",
   "metadata": {},
   "source": [
    "Calculate and display smallest enclosing circles:"
   ]
  },
  {
   "cell_type": "code",
   "execution_count": null,
   "metadata": {},
   "outputs": [],
   "source": [
    "for z in zip_borders:\n",
    "    lat, lng, r = make_circle_metric(zip_borders[z])\n",
    "    folium.Circle([lat, lng],\n",
    "                    radius=r\n",
    "                   ).add_to(m)\n",
    "m"
   ]
  },
  {
   "cell_type": "markdown",
   "metadata": {},
   "source": [
    "Now, call the `get_dentists` function for each ZIP area."
   ]
  },
  {
   "cell_type": "code",
   "execution_count": null,
   "metadata": {},
   "outputs": [],
   "source": [
    "#get dentists by zip codes\n",
    "miami_dentists = {}\n",
    "for i,z in enumerate(zip_borders):\n",
    "    lat, lng, r = make_circle_metric(zip_borders[z])\n",
    "    dent = get_dentists(lat, lng, r)\n",
    "    try:\n",
    "        dent = dent[dent['zip']==z] #remove offices from other ZIPs\n",
    "    except KeyError:\n",
    "        continue\n",
    "    if len(dent) > 0: miami_dentists[z] = dent #remove zips with no dentists"
   ]
  },
  {
   "cell_type": "markdown",
   "metadata": {},
   "source": [
    "This part of the exercise is prone to networking errors and takes some time, so the successful result is saved in a `pickle` format to avoid repeated calls."
   ]
  },
  {
   "cell_type": "code",
   "execution_count": null,
   "metadata": {},
   "outputs": [],
   "source": [
    "import pickle\n",
    "\n",
    "with open('miami_dentists.pickle', 'wb') as f:\n",
    "    pickle.dump(miami_dentists, f, pickle.HIGHEST_PROTOCOL)"
   ]
  },
  {
   "cell_type": "code",
   "execution_count": null,
   "metadata": {},
   "outputs": [],
   "source": [
    "with open('miami_dentists.pickle', 'rb') as f:\n",
    "    miami_dentists = pickle.load(f)"
   ]
  },
  {
   "cell_type": "markdown",
   "metadata": {},
   "source": [
    "## 3. Data visualization"
   ]
  },
  {
   "cell_type": "markdown",
   "metadata": {},
   "source": [
    "The following function adds Dental Offices to a map."
   ]
  },
  {
   "cell_type": "code",
   "execution_count": null,
   "metadata": {},
   "outputs": [],
   "source": [
    "def add_dentists_to_map(df,m, add_label=''):\n",
    "    for lat, lng, label in zip(df['lat'], df['lng'], df['name']):\n",
    "        label = folium.Popup(label+add_label, parse_html=True)\n",
    "        folium.CircleMarker(\n",
    "            [lat, lng],\n",
    "            radius=2,\n",
    "            popup=label,\n",
    "            color='blue',\n",
    "            fill=True,\n",
    "            fill_color='#3186cc',\n",
    "            fill_opacity=0.7,\n",
    "            parse_html=False).add_to(m)"
   ]
  },
  {
   "cell_type": "markdown",
   "metadata": {},
   "source": [
    "Now we can create a map with all Dental Offices in the Miami Area."
   ]
  },
  {
   "cell_type": "code",
   "execution_count": null,
   "metadata": {},
   "outputs": [],
   "source": [
    "m = folium.Map(\n",
    "    location=miami_area,\n",
    "    tiles='cartodbpositron',\n",
    "    zoom_start=9\n",
    ")\n",
    "folium.TopoJson(\n",
    "    topo,\n",
    "    'objects.Zip_Code',\n",
    "    style_function=style_function\n",
    ").add_to(m)\n",
    "\n",
    "for d in miami_dentists:\n",
    "    add_dentists_to_map(miami_dentists[d],m, add_label=', ZIP:'+d)\n",
    "m"
   ]
  },
  {
   "cell_type": "markdown",
   "metadata": {},
   "source": [
    "## 4. Model creation"
   ]
  },
  {
   "cell_type": "markdown",
   "metadata": {},
   "source": [
    "The following hypothesis was considered: number of Dental Offices in a given area is in relation to this area population and median household income.\n",
    "The hypothesis was checked using multi linear regression."
   ]
  },
  {
   "cell_type": "markdown",
   "metadata": {},
   "source": [
    "Preparing an array with all collected data."
   ]
  },
  {
   "cell_type": "code",
   "execution_count": null,
   "metadata": {},
   "outputs": [],
   "source": [
    "# getting population, median income and number of dental offices per ZIP\n",
    "# list of ZIPs is stored in 'zip_borders' dict\n",
    "zip_data = []\n",
    "for z in zip_borders:\n",
    "    pop = pop_df.loc[int(z), 'pop']\n",
    "    if pop > 0:\n",
    "        if str(z) in miami_dentists:\n",
    "            dentists_in_zip = len(miami_dentists[str(z)])\n",
    "        else:\n",
    "            dentists_in_zip = 0\n",
    "        #number of practices per 10000 population\n",
    "        ratio = dentists_in_zip/pop * 10000 \n",
    "        income = int(zip_income['Median'][int(z)].replace(',' , '')) \n",
    "        zip_data.append({'zip': int(z), \n",
    "                         'pop': pop, \n",
    "                         'dentists': dentists_in_zip,\n",
    "                         'income': income,\n",
    "                         'ratio': ratio}) \n",
    "zip_data = pd.DataFrame(zip_data).set_index('zip')"
   ]
  },
  {
   "cell_type": "code",
   "execution_count": null,
   "metadata": {},
   "outputs": [],
   "source": [
    "zip_data.head()"
   ]
  },
  {
   "cell_type": "code",
   "execution_count": null,
   "metadata": {},
   "outputs": [],
   "source": [
    "'''\n",
    "# display the whole dataframe\n",
    "with pd.option_context('display.max_rows', None, 'display.max_columns', None):  # more options can be specified also\n",
    "    print(zip_data.sort_values(by=['ratio','pop'], ascending=False))\n",
    "'''"
   ]
  },
  {
   "cell_type": "code",
   "execution_count": null,
   "metadata": {},
   "outputs": [],
   "source": [
    "# use the inline backend to generate the plots within the browser\n",
    "%matplotlib inline \n",
    "\n",
    "import matplotlib as mpl\n",
    "import matplotlib.pyplot as plt\n",
    "# generate histogram\n",
    "zip_data[['ratio']].plot(kind='hist', figsize=(10, 6))\n",
    "\n",
    "plt.title('Histogram of Dental Office numbers in ZIP areas')\n",
    "plt.ylabel('Number of ZIP areas')\n",
    "plt.xlabel('Number of Dental Offices')\n",
    "\n",
    "plt.show()"
   ]
  },
  {
   "cell_type": "code",
   "execution_count": null,
   "metadata": {},
   "outputs": [],
   "source": [
    "zip_data.plot(kind='scatter', x='pop', y='dentists', figsize=(10, 6), color='darkblue')\n",
    "\n",
    "plt.title('Number of dentist offices by population in ZIP areas')\n",
    "plt.xlabel('Population in the ZIP area')\n",
    "plt.ylabel('Number of Dental Offices')\n",
    "for z in zip_data.index:\n",
    "    plt.annotate(z, (zip_data['pop'][z], zip_data['dentists'][z]),\n",
    "                textcoords='offset pixels', xytext=(-10,4),\n",
    "                fontsize=7,\n",
    "                alpha = zip_data['ratio'][z]/zip_data['ratio'].max()\n",
    "                )\n",
    "plt.show()"
   ]
  },
  {
   "cell_type": "code",
   "execution_count": null,
   "metadata": {},
   "outputs": [],
   "source": [
    "# average ratio of dental offices per 10000 inabitanits\n",
    "\n",
    "zip_data['dentists'].sum()/zip_data['pop'].sum() * 10000"
   ]
  },
  {
   "cell_type": "code",
   "execution_count": null,
   "metadata": {},
   "outputs": [],
   "source": [
    "zip_data.plot(kind='scatter', x='income', y='dentists', figsize=(10, 6), color='darkblue')\n",
    "\n",
    "plt.title('Number of dentist offices by median income in ZIP areas')\n",
    "plt.xlabel('Median income in the ZIP area')\n",
    "plt.ylabel('Number of Dental Offices')\n",
    "for z in zip_data.index:\n",
    "    plt.annotate(z, (zip_data['income'][z], zip_data['dentists'][z]),\n",
    "                textcoords='offset pixels', xytext=(-10,4),\n",
    "                fontsize=7,\n",
    "                alpha = zip_data['ratio'][z]/zip_data['ratio'].max()\n",
    "                )\n",
    "plt.plot(x, regr.coef_[0][0]*x + regr.intercept_[0], '-r')\n",
    "plt.show()"
   ]
  },
  {
   "cell_type": "code",
   "execution_count": null,
   "metadata": {},
   "outputs": [],
   "source": [
    "import numpy as np\n",
    "from sklearn import linear_model\n",
    "\n",
    "# create multi linear regression model\n",
    "# remove zip codes with NO dental offices for modelling\n",
    "# zip_data.drop(zip_data[zip_data.dentists < 1].index, inplace=True)\n",
    "\n",
    "\n",
    "regr = linear_model.LinearRegression()\n",
    "x = np.asanyarray(zip_data[['pop','income']])\n",
    "y = np.asanyarray(zip_data[['dentists']])\n",
    "regr.fit (x, y)\n",
    "# The coefficients\n",
    "print ('Coefficients: ', regr.coef_)"
   ]
  },
  {
   "cell_type": "code",
   "execution_count": null,
   "metadata": {},
   "outputs": [],
   "source": [
    "y_hat= regr.predict(zip_data[['pop', 'income']])\n",
    "x = np.asanyarray(zip_data[['pop', 'income']])\n",
    "y = np.asanyarray(zip_data[['dentists']])\n",
    "print(\"Residual sum of squares: %.2f\"\n",
    "      % np.mean((y_hat - y) ** 2))\n",
    "\n",
    "# Explained variance score: 1 is perfect prediction\n",
    "print('Variance score: %.2f' % regr.score(x, y))"
   ]
  },
  {
   "cell_type": "code",
   "execution_count": null,
   "metadata": {},
   "outputs": [],
   "source": [
    "plt.plot(x, regr.coef_[0][0]*x + regr.intercept_[0], '-r')"
   ]
  },
  {
   "cell_type": "code",
   "execution_count": null,
   "metadata": {},
   "outputs": [],
   "source": []
  },
  {
   "cell_type": "code",
   "execution_count": null,
   "metadata": {},
   "outputs": [],
   "source": [
    "all_dentists = 0\n",
    "for z in miami_dentists:\n",
    "    all_dentists += len(miami_dentists[z].index)\n"
   ]
  },
  {
   "cell_type": "code",
   "execution_count": null,
   "metadata": {},
   "outputs": [],
   "source": [
    "all_dentists"
   ]
  },
  {
   "cell_type": "code",
   "execution_count": null,
   "metadata": {},
   "outputs": [],
   "source": [
    "# using predicted number of Offices (y_hat), \n",
    "# get number of ZIP codes where there are too few offices\n",
    "result = np.rint(y-y_hat).astype(int)"
   ]
  },
  {
   "cell_type": "code",
   "execution_count": null,
   "metadata": {},
   "outputs": [],
   "source": [
    "zip_data['result']=result"
   ]
  },
  {
   "cell_type": "code",
   "execution_count": null,
   "metadata": {},
   "outputs": [],
   "source": [
    "zip_data.sort_values(by=['result','income', 'pop'])"
   ]
  },
  {
   "cell_type": "code",
   "execution_count": null,
   "metadata": {},
   "outputs": [],
   "source": [
    "prospective = zip_data.sort_values(by=['result','income', 'pop'])[0:5].index"
   ]
  },
  {
   "cell_type": "code",
   "execution_count": null,
   "metadata": {},
   "outputs": [],
   "source": [
    "prospective"
   ]
  },
  {
   "cell_type": "code",
   "execution_count": null,
   "metadata": {},
   "outputs": [],
   "source": [
    "zip_map = r'Zip_Code.topojson' # topojson file\n",
    "pop_df = pd.read_csv('population_by_zip.csv')\n",
    "\n",
    "#yellow --> green color scale from 0 to maximum population\n",
    "colorscale = branca.colormap.linear.YlGn_09.scale(0, pop_df.max()['pop'])\n",
    "with open(zip_map, mode='r') as f:\n",
    "    topo = json.load(f)\n",
    "    \n",
    "#find zip codes present in the topojson file\n",
    "topo_zips = set()\n",
    "for g in topo['objects']['Zip_Code']['geometries']:\n",
    "    topo_zips.add(g['properties']['ZIP'])\n",
    "\n",
    "#zip codes in population file\n",
    "pop_zips=set(pop_df.index)\n",
    "\n",
    "#add missing zip codes to population file (with value = 0)\n",
    "#this is necessary for folium to parse all zip areas\n",
    "for z in topo_zips - pop_zips:\n",
    "    pop_df = pop_df.append({'zip':z, 'pop':0}, ignore_index=True)\n",
    "\n",
    "pop_series = pop_df.set_index('zip')['pop']\n",
    "def style_function(feature):\n",
    "    pop = pop_series.get(int(feature['properties']['ZIP']), None)\n",
    "    fillColor = '#black' if int(feature['properties']['ZIP']) in prospective else colorscale(pop)\n",
    "    return {\n",
    "        'fillOpacity': 0.5,\n",
    "        'weight': 0,\n",
    "        'fillColor': fillColor\n",
    "    }\n",
    "\n",
    "miami_area = [25.70, -80.208889]\n",
    "m = folium.Map(\n",
    "    location=miami_area,\n",
    "    tiles='cartodbpositron',\n",
    "    zoom_start=9\n",
    ")\n",
    "folium.TopoJson(\n",
    "    topo,\n",
    "    'objects.Zip_Code',\n",
    "    style_function=style_function\n",
    ").add_to(m)\n",
    "\n"
   ]
  },
  {
   "cell_type": "code",
   "execution_count": null,
   "metadata": {},
   "outputs": [],
   "source": [
    "m"
   ]
  },
  {
   "cell_type": "code",
   "execution_count": null,
   "metadata": {},
   "outputs": [],
   "source": [
    "for d in miami_dentists:\n",
    "    try:\n",
    "        add_dentists_to_map(miami_dentists[str(d)],m, add_label=', ZIP:'+str(d))\n",
    "    except KeyError:\n",
    "        continue"
   ]
  },
  {
   "cell_type": "code",
   "execution_count": null,
   "metadata": {},
   "outputs": [],
   "source": [
    "m"
   ]
  },
  {
   "cell_type": "code",
   "execution_count": null,
   "metadata": {},
   "outputs": [],
   "source": [
    "pop_df"
   ]
  },
  {
   "cell_type": "code",
   "execution_count": null,
   "metadata": {},
   "outputs": [],
   "source": [
    "pop_zips=set(pop_df.index)"
   ]
  },
  {
   "cell_type": "code",
   "execution_count": null,
   "metadata": {},
   "outputs": [],
   "source": [
    "pop_zips"
   ]
  },
  {
   "cell_type": "code",
   "execution_count": null,
   "metadata": {},
   "outputs": [],
   "source": []
  }
 ],
 "metadata": {
  "kernelspec": {
   "display_name": "Python 3",
   "language": "python",
   "name": "python3"
  },
  "language_info": {
   "codemirror_mode": {
    "name": "ipython",
    "version": 3
   },
   "file_extension": ".py",
   "mimetype": "text/x-python",
   "name": "python",
   "nbconvert_exporter": "python",
   "pygments_lexer": "ipython3",
   "version": "3.7.6"
  }
 },
 "nbformat": 4,
 "nbformat_minor": 4
}
