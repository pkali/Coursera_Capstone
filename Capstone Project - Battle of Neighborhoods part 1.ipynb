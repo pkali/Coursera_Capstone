{
 "cells": [
  {
   "cell_type": "markdown",
   "metadata": {},
   "source": [
    "# Battle of Neighborhoods\n",
    "## 1. Introduction / Business problem "
   ]
  },
  {
   "attachments": {},
   "cell_type": "markdown",
   "metadata": {},
   "source": [
    "Each year number of practicing dentists in Florida grows by average by 170 [(source)](https://www.ada.org/en/science-research/health-policy-institute/data-center/supply-and-profile-of-dentists).\n",
    "![](fl_dentists_chart.png)\n",
    "\n",
    "Most of new dentists start as Associates in the established practices, but finally they want to open their own offices. \n",
    "\n",
    "Here comes the problem - what is the best place to open the new dental practice?\n",
    "\n",
    "We will examine in this exercise a naïve approach of comparing population numbers in a given neighborhood to density and quality of existing dental practices.\n",
    "\n",
    "This approach might be further expanded by comparing additional data as wealth (e.g. median household income) and commercial rent rates. "
   ]
  },
  {
   "cell_type": "markdown",
   "metadata": {},
   "source": [
    "## 2. Data"
   ]
  },
  {
   "cell_type": "markdown",
   "metadata": {},
   "source": []
  }
 ],
 "metadata": {
  "kernelspec": {
   "display_name": "Python 3",
   "language": "python",
   "name": "python3"
  },
  "language_info": {
   "codemirror_mode": {
    "name": "ipython",
    "version": 3
   },
   "file_extension": ".py",
   "mimetype": "text/x-python",
   "name": "python",
   "nbconvert_exporter": "python",
   "pygments_lexer": "ipython3",
   "version": "3.7.6"
  }
 },
 "nbformat": 4,
 "nbformat_minor": 4
}
