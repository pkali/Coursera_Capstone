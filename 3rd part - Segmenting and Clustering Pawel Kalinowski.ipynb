{
 "cells": [
  {
   "cell_type": "markdown",
   "metadata": {},
   "source": [
    "## Segmenting and Clustering Neighborhoods in Toronto\n",
    "\n",
    "Week 3 assignment for *pkali*, part #3"
   ]
  },
  {
   "cell_type": "code",
   "execution_count": 11,
   "metadata": {},
   "outputs": [],
   "source": [
    "import pandas as pd\n",
    "import numpy as np"
   ]
  },
  {
   "cell_type": "code",
   "execution_count": 12,
   "metadata": {},
   "outputs": [],
   "source": [
    "from bs4 import BeautifulSoup\n",
    "import requests\n",
    "base = 'https://en.wikipedia.org/wiki/List_of_postal_codes_of_Canada:_M'\n",
    "soup = BeautifulSoup(requests.get(base).text, 'lxml')\n",
    "tabs = soup.find(\"table\",{\"class\":\"wikitable sortable\"})\n",
    "df = pd.read_html(str(tabs))[0] #read only the first tab\n",
    "df.drop(df[df.Borough == 'Not assigned'].index, inplace=True)\n",
    "df.reset_index(drop=True,inplace=True)"
   ]
  },
  {
   "cell_type": "code",
   "execution_count": 13,
   "metadata": {},
   "outputs": [],
   "source": [
    "geospatial = pd.read_csv('http://cocl.us/Geospatial_data')\n",
    "df = df.merge(geospatial, left_on='Postal Code', right_on='Postal Code')"
   ]
  },
  {
   "cell_type": "code",
   "execution_count": null,
   "metadata": {},
   "outputs": [],
   "source": []
  }
 ],
 "metadata": {
  "kernelspec": {
   "display_name": "Python 3",
   "language": "python",
   "name": "python3"
  },
  "language_info": {
   "codemirror_mode": {
    "name": "ipython",
    "version": 3
   },
   "file_extension": ".py",
   "mimetype": "text/x-python",
   "name": "python",
   "nbconvert_exporter": "python",
   "pygments_lexer": "ipython3",
   "version": "3.7.6"
  }
 },
 "nbformat": 4,
 "nbformat_minor": 4
}
